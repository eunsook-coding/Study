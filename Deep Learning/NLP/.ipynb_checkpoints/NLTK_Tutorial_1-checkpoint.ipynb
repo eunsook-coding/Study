{
 "cells": [
  {
   "cell_type": "markdown",
   "metadata": {},
   "source": [
    "# Text analysis process"
   ]
  },
  {
   "cell_type": "markdown",
   "metadata": {},
   "source": [
    "<img src=\"https://www.lucypark.kr/courses/2015-dm/images/text-process.png\">\n",
    "\n",
    "전처리는 아래의 세부 과정으로 다시 한 번 나뉜다.\n",
    "\n",
    "1. Load text\n",
    "\n",
    "2. Tokenize text (ex: stemming, morph analyzing) #stemming : 형태소 분석 / morph analyzing : 형태 분석\n",
    "\n",
    "3. Tag tokens (ex: POS, NER) #POS (Part of Speech) : 품사 태깅 / NER(Name Entity Recognized) / Entity : 파라미터의 형태 like variable\n",
    "\n",
    "4. Token(Feature) selection and/or filter/rank tokens (ex: stopword removal, TF-IDF) #TF-IDF(Term Frequency - Inverse Document Frequency)\n",
    "\n",
    "5. ...and so on (ex: calculate word/document similarities, cluster documents)"
   ]
  },
  {
   "cell_type": "markdown",
   "metadata": {},
   "source": [
    "# NLTK: Provides modules for text analysis (mostly language independent)"
   ]
  },
  {
   "cell_type": "markdown",
   "metadata": {},
   "source": [
    "## Install\n",
    "\n",
    "- pip install nltk\n",
    "\n",
    "\n",
    "- conda install -c anaconda nltk=3.2.1"
   ]
  },
  {
   "cell_type": "markdown",
   "metadata": {},
   "source": [
    "## 간단 NLTK 함수 사용해보기!\n",
    "\n",
    "http://blog.il-q.com/entry/%ED%8C%8C%EC%9D%B4%EC%8D%AC%EA%B3%BC-%ED%95%A8%EA%BB%98%ED%95%98%EB%8A%94-%EC%9E%90%EC%97%B0%EC%96%B4-%EC%B2%98%EB%A6%AC-NLTK"
   ]
  },
  {
   "cell_type": "markdown",
   "metadata": {},
   "source": [
    "# 1. Read Document"
   ]
  },
  {
   "cell_type": "code",
   "execution_count": 9,
   "metadata": {
    "collapsed": false
   },
   "outputs": [],
   "source": [
    "import nltk\n",
    "from nltk.book import *\n"
   ]
  },
  {
   "cell_type": "markdown",
   "metadata": {},
   "source": [
    "# 2. concordance : 단어가 쓰인 모든 경우의 문맥을 찾아줌 (색인)"
   ]
  },
  {
   "cell_type": "code",
   "execution_count": 10,
   "metadata": {
    "collapsed": false
   },
   "outputs": [
    {
     "name": "stdout",
     "output_type": "stream",
     "text": [
      "Displaying 8 of 8 matches:\n",
      "menaces , by fraud or violence , by terror , intrigue , or venality , the Gove\n",
      "ameless , unreasoning , unjustified terror which paralyzes needed efforts to c\n",
      "ublic seemed frozen by a fatalistic terror , we proved that this is not true .\n",
      " to alter that uncertain balance of terror that stays the hand of mankind ' s \n",
      "eans freeing all Americans from the terror of runaway living costs . All must \n",
      "still . They fuel the fanaticism of terror . And they torment the lives of mil\n",
      "d maintain a strong defense against terror and destruction . Our children will\n",
      "k to advance their aims by inducing terror and slaughtering innocents , we say\n"
     ]
    }
   ],
   "source": [
    "text4.concordance(\"terror\")"
   ]
  },
  {
   "cell_type": "markdown",
   "metadata": {},
   "source": [
    "# 3. similar : 주어진 단어와 비슷한 환경에서 쓰인 단어를 찾아줌"
   ]
  },
  {
   "cell_type": "code",
   "execution_count": 11,
   "metadata": {
    "collapsed": false
   },
   "outputs": [
    {
     "name": "stdout",
     "output_type": "stream",
     "text": [
      "liberty nations life war knowledge wealth duty congress history\n",
      "suffering peace power government freedom commerce gratification\n",
      "leaders conduct men humility\n"
     ]
    }
   ],
   "source": [
    "text4.similar(\"terror\")"
   ]
  },
  {
   "cell_type": "code",
   "execution_count": 12,
   "metadata": {
    "collapsed": false
   },
   "outputs": [
    {
     "name": "stdout",
     "output_type": "stream",
     "text": [
      "man sign harpooneer bone thing distance voyage sound whale speed night\n",
      "sight way ship picture land copy battle commentaries head\n"
     ]
    }
   ],
   "source": [
    "text1.similar(\"terror\")"
   ]
  },
  {
   "cell_type": "markdown",
   "metadata": {
    "collapsed": false
   },
   "source": [
    "# 4. dispersion_plot : 텍스트 내 단어 사용 빈도와 위치를 분산 그래프로 그려줌"
   ]
  },
  {
   "cell_type": "code",
   "execution_count": 13,
   "metadata": {
    "collapsed": false
   },
   "outputs": [
    {
     "data": {
      "image/png": "[encoded data removed]",
      "text/plain": [
       "<matplotlib.figure.Figure at 0x106075390>"
      ]
     },
     "metadata": {},
     "output_type": "display_data"
    }
   ],
   "source": [
    "import matplotlib.pyplot as plt\n",
    "%matplotlib inline  \n",
    "text4.dispersion_plot([\"citizen\", \"democracy\", \"freedom\", \"duties\", \"America\"])"
   ]
  },
  {
   "cell_type": "markdown",
   "metadata": {
    "collapsed": false
   },
   "source": [
    "# 5. word_tokenize : token 나누기"
   ]
  },
  {
   "cell_type": "code",
   "execution_count": 18,
   "metadata": {
    "collapsed": false
   },
   "outputs": [
    {
     "data": {
      "text/plain": [
       "['It',\n",
       " 'was',\n",
       " 'always',\n",
       " 'hard',\n",
       " 'for',\n",
       " 'me',\n",
       " 'to',\n",
       " 'shine',\n",
       " 'and',\n",
       " 'try',\n",
       " 'to',\n",
       " 'immortalize',\n",
       " 'my',\n",
       " 'name',\n",
       " '.']"
      ]
     },
     "execution_count": 18,
     "metadata": {},
     "output_type": "execute_result"
    }
   ],
   "source": [
    "sentence = \"It was always hard for me to shine and try to immortalize my name.\"\n",
    "tokens = nltk.word_tokenize(sentence)\n",
    "tokens"
   ]
  },
  {
   "cell_type": "markdown",
   "metadata": {
    "collapsed": false
   },
   "source": [
    "# 6. pos_tag : 품사 태깅"
   ]
  },
  {
   "cell_type": "code",
   "execution_count": 19,
   "metadata": {
    "collapsed": false
   },
   "outputs": [
    {
     "data": {
      "text/plain": [
       "[('It', 'PRP'),\n",
       " ('was', 'VBD'),\n",
       " ('always', 'RB'),\n",
       " ('hard', 'RB'),\n",
       " ('for', 'IN'),\n",
       " ('me', 'PRP'),\n",
       " ('to', 'TO'),\n",
       " ('shine', 'VB'),\n",
       " ('and', 'CC'),\n",
       " ('try', 'VB'),\n",
       " ('to', 'TO'),\n",
       " ('immortalize', 'VB'),\n",
       " ('my', 'PRP$'),\n",
       " ('name', 'NN'),\n",
       " ('.', '.')]"
      ]
     },
     "execution_count": 19,
     "metadata": {},
     "output_type": "execute_result"
    }
   ],
   "source": [
    "tagged = nltk.pos_tag(tokens)\n",
    "tagged"
   ]
  },
  {
   "cell_type": "markdown",
   "metadata": {},
   "source": [
    "# 참고 자료\n",
    "[1] http://www.nltk.org/\n",
    "\n",
    "[2] 파이썬으로 영어와 한국어 텍스트 다루기 : https://www.lucypark.kr/courses/2015-dm/text-mining.html\n",
    "\n",
    "[3] Pycon 발표 자료 : https://www.lucypark.kr/slides/2015-pyconkr/#48\n",
    "\n",
    "[4] NLP로 영어 형태소 분석하기 : http://sens.tistory.com/454\n",
    "\n",
    "[5] NLP Annotations : https://stanbol.apache.org/docs/trunk/components/enhancer/nlp/nlpannotations\n",
    "\n",
    "[6] TF-IDF : http://dev.youngkyu.kr/25\n",
    "\n",
    "[7] NLTK Demo : http://likelink.co.kr/3913"
   ]
  }
 ],
 "metadata": {
  "kernelspec": {
   "display_name": "Python [Root]",
   "language": "python",
   "name": "Python [Root]"
  },
  "language_info": {
   "codemirror_mode": {
    "name": "ipython",
    "version": 2
   },
   "file_extension": ".py",
   "mimetype": "text/x-python",
   "name": "python",
   "nbconvert_exporter": "python",
   "pygments_lexer": "ipython2",
   "version": "2.7.12"
  }
 },
 "nbformat": 4,
 "nbformat_minor": 0
}
