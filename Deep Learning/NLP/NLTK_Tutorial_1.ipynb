{
 "cells": [
  {
   "cell_type": "markdown",
   "metadata": {},
   "source": [
    "# 1. Read Document"
   ]
  },
  {
   "cell_type": "code",
   "execution_count": 6,
   "metadata": {
    "collapsed": false
   },
   "outputs": [],
   "source": [
    "from nltk.corpus import gutenberg   # Docs from project gutenberg.org\n",
    "files_en = gutenberg.fileids()      # Get file ids\n",
    "doc_en = gutenberg.open('austen-emma.txt').read()"
   ]
  },
  {
   "cell_type": "markdown",
   "metadata": {},
   "source": [
    "# 2. Tokenize"
   ]
  },
  {
   "cell_type": "code",
   "execution_count": 7,
   "metadata": {
    "collapsed": true
   },
   "outputs": [],
   "source": [
    "from nltk import regexp_tokenize\n",
    "pattern = r'''(?x) ([A-Z]\\.)+ | \\w+(-\\w+)* | \\$?\\d+(\\.\\d+)?%? | \\.\\.\\. | [][.,;\"'?():-_`]'''\n",
    "tokens_en = regexp_tokenize(doc_en, pattern)"
   ]
  },
  {
   "cell_type": "markdown",
   "metadata": {},
   "source": [
    "# 3. Load tokens with nltk.Text()"
   ]
  },
  {
   "cell_type": "code",
   "execution_count": 8,
   "metadata": {
    "collapsed": false
   },
   "outputs": [],
   "source": [
    "import nltk\n",
    "en = nltk.Text(tokens_en)"
   ]
  },
  {
   "cell_type": "code",
   "execution_count": 9,
   "metadata": {
    "collapsed": false
   },
   "outputs": [
    {
     "name": "stdout",
     "output_type": "stream",
     "text": [
      "191061\n"
     ]
    }
   ],
   "source": [
    "print(len(en.tokens))"
   ]
  },
  {
   "cell_type": "code",
   "execution_count": 10,
   "metadata": {
    "collapsed": false
   },
   "outputs": [
    {
     "name": "stdout",
     "output_type": "stream",
     "text": [
      "232\n"
     ]
    }
   ],
   "source": [
    "print(len(set(en.tokens)))"
   ]
  },
  {
   "cell_type": "code",
   "execution_count": 11,
   "metadata": {
    "collapsed": false
   },
   "outputs": [
    {
     "data": {
      "text/plain": [
       "FreqDist({(u'', u'', u''): 190496,\n",
       "          (u'', u'-Churchill', u''): 1,\n",
       "          (u'', u'-Hart_', u''): 1,\n",
       "          (u'', u'-JULY', u''): 1,\n",
       "          (u'', u'-Mill', u''): 7,\n",
       "          (u'', u'-Weston', u''): 1,\n",
       "          (u'', u'-able', u''): 1,\n",
       "          (u'', u'-aches', u''): 1,\n",
       "          (u'', u'-all', u''): 1,\n",
       "          (u'', u'-approbation', u''): 2,\n",
       "          (u'', u'-arm', u''): 1,\n",
       "          (u'', u'-arrangement', u''): 1,\n",
       "          (u'', u'-ashamed', u''): 1,\n",
       "          (u'', u'-assorted', u''): 1,\n",
       "          (u'', u'-back', u''): 1,\n",
       "          (u'', u'-baits', u''): 1,\n",
       "          (u'', u'-baked', u''): 1,\n",
       "          (u'', u'-bathing', u''): 2,\n",
       "          (u'', u'-be', u''): 1,\n",
       "          (u'', u'-beds', u''): 3,\n",
       "          (u'', u'-beer', u''): 4,\n",
       "          (u'', u'-behaved', u''): 2,\n",
       "          (u'', u'-bestowed', u''): 1,\n",
       "          (u'', u'-betweens', u''): 1,\n",
       "          (u'', u'-blanche', u''): 1,\n",
       "          (u'', u'-boarder', u''): 3,\n",
       "          (u'', u'-book', u''): 2,\n",
       "          (u'', u'-boot', u''): 1,\n",
       "          (u'', u'-boy', u''): 1,\n",
       "          (u'', u'-bred', u''): 3,\n",
       "          (u'', u'-breeding', u''): 2,\n",
       "          (u'', u'-built', u''): 1,\n",
       "          (u'', u'-by', u''): 2,\n",
       "          (u'', u'-bye', u''): 3,\n",
       "          (u'', u'-cake', u''): 5,\n",
       "          (u'', u'-cakes', u''): 1,\n",
       "          (u'', u'-candles', u''): 1,\n",
       "          (u'', u'-careful', u''): 1,\n",
       "          (u'', u'-chamber', u''): 1,\n",
       "          (u'', u'-circle', u''): 1,\n",
       "          (u'', u'-club', u''): 1,\n",
       "          (u'', u'-colours', u''): 2,\n",
       "          (u'', u'-command', u''): 5,\n",
       "          (u'', u'-company', u''): 1,\n",
       "          (u'', u'-consequence', u''): 1,\n",
       "          (u'', u'-contentment', u''): 1,\n",
       "          (u'', u'-controul', u''): 1,\n",
       "          (u'', u'-craig', u''): 1,\n",
       "          (u'', u'-curtain', u''): 1,\n",
       "          (u'', u'-dance', u''): 1,\n",
       "          (u'', u'-dances', u''): 1,\n",
       "          (u'', u'-day', u''): 31,\n",
       "          (u'', u'-deceived', u''): 1,\n",
       "          (u'', u'-declined', u''): 1,\n",
       "          (u'', u'-denial', u''): 1,\n",
       "          (u'', u'-denying', u''): 1,\n",
       "          (u'', u'-desk', u''): 2,\n",
       "          (u'', u'-disposed', u''): 1,\n",
       "          (u'', u'-doing', u''): 1,\n",
       "          (u'', u'-door', u''): 3,\n",
       "          (u'', u'-draper', u''): 3,\n",
       "          (u'', u'-dumpling', u''): 1,\n",
       "          (u'', u'-dumplings', u''): 1,\n",
       "          (u'', u'-dyed', u''): 1,\n",
       "          (u'', u'-east', u''): 1,\n",
       "          (u'', u'-eight', u''): 1,\n",
       "          (u'', u'-equipped', u''): 1,\n",
       "          (u'', u'-errantry', u''): 1,\n",
       "          (u'', u'-estate', u''): 1,\n",
       "          (u'', u'-examination', u''): 1,\n",
       "          (u'', u'-existence', u''): 1,\n",
       "          (u'', u'-expectant', u''): 1,\n",
       "          (u'', u'-fact', u''): 1,\n",
       "          (u'', u'-fame', u''): 1,\n",
       "          (u'', u'-farm', u''): 1,\n",
       "          (u'', u'-farmer', u''): 1,\n",
       "          (u'', u'-fashioned', u''): 2,\n",
       "          (u'', u'-father', u''): 1,\n",
       "          (u'', u'-felt', u''): 1,\n",
       "          (u'', u'-fever', u''): 1,\n",
       "          (u'', u'-five', u''): 2,\n",
       "          (u'', u'-four', u''): 3,\n",
       "          (u'', u'-fresco', u''): 1,\n",
       "          (u'', u'-furnished', u''): 1,\n",
       "          (u'', u'-gammon', u''): 1,\n",
       "          (u'', u'-gate', u''): 3,\n",
       "          (u'', u'-gentlemen', u''): 1,\n",
       "          (u'', u'-girl', u''): 1,\n",
       "          (u'', u'-glance', u''): 1,\n",
       "          (u'', u'-glass', u''): 1,\n",
       "          (u'', u'-grown', u''): 1,\n",
       "          (u'', u'-hand', u''): 1,\n",
       "          (u'', u'-headed', u''): 2,\n",
       "          (u'', u'-health', u''): 4,\n",
       "          (u'', u'-hearted', u''): 12,\n",
       "          (u'', u'-heartedness', u''): 1,\n",
       "          (u'', u'-horse', u''): 1,\n",
       "          (u'', u'-horses', u''): 2,\n",
       "          (u'', u'-hour', u''): 6,\n",
       "          (u'', u'-house', u''): 3,\n",
       "          (u'', u'-humour', u''): 7,\n",
       "          (u'', u'-humoured', u''): 6,\n",
       "          (u'', u'-humouredly', u''): 2,\n",
       "          (u'', u'-important', u''): 1,\n",
       "          (u'', u'-informed', u''): 3,\n",
       "          (u'', u'-ing', u''): 1,\n",
       "          (u'', u'-interest', u''): 1,\n",
       "          (u'', u'-judged', u''): 2,\n",
       "          (u'', u'-judging', u''): 3,\n",
       "          (u'', u'-judgment', u''): 1,\n",
       "          (u'', u'-known', u''): 2,\n",
       "          (u'', u'-land', u''): 1,\n",
       "          (u'', u'-landau', u''): 7,\n",
       "          (u'', u'-lashes', u''): 2,\n",
       "          (u'', u'-law', u''): 12,\n",
       "          (u'', u'-length', u''): 2,\n",
       "          (u'', u'-lengths', u''): 2,\n",
       "          (u'', u'-like', u''): 3,\n",
       "          (u'', u'-looking', u''): 7,\n",
       "          (u'', u'-luck', u''): 1,\n",
       "          (u'', u'-ma', u''): 1,\n",
       "          (u'', u'-maids', u''): 1,\n",
       "          (u'', u'-making', u''): 6,\n",
       "          (u'', u'-mama', u''): 1,\n",
       "          (u'', u'-master', u''): 1,\n",
       "          (u'', u'-meaning', u''): 4,\n",
       "          (u'', u'-minded', u''): 3,\n",
       "          (u'', u'-morrow', u''): 27,\n",
       "          (u'', u'-morrows', u''): 2,\n",
       "          (u'', u'-mourners', u''): 1,\n",
       "          (u'', u'-moving', u''): 1,\n",
       "          (u'', u'-nature', u''): 4,\n",
       "          (u'', u'-natured', u''): 6,\n",
       "          (u'', u'-night', u''): 1,\n",
       "          (u'', u'-nights', u''): 1,\n",
       "          (u'', u'-nine', u''): 1,\n",
       "          (u'', u'-nothing', u''): 1,\n",
       "          (u'', u'-off', u''): 1,\n",
       "          (u'', u'-office', u''): 8,\n",
       "          (u'', u'-on', u''): 1,\n",
       "          (u'', u'-one', u''): 1,\n",
       "          (u'', u'-out', u''): 4,\n",
       "          (u'', u'-pace', u''): 1,\n",
       "          (u'', u'-pan', u''): 1,\n",
       "          (u'', u'-parlour', u''): 1,\n",
       "          (u'', u'-parties', u''): 6,\n",
       "          (u'', u'-party', u''): 2,\n",
       "          (u'', u'-people', u''): 1,\n",
       "          (u'', u'-pieces', u''): 1,\n",
       "          (u'', u'-pies', u''): 1,\n",
       "          (u'', u'-place', u''): 3,\n",
       "          (u'', u'-plaister', u''): 9,\n",
       "          (u'', u'-players', u''): 1,\n",
       "          (u'', u'-plot', u''): 1,\n",
       "          (u'', u'-ponds', u''): 1,\n",
       "          (u'', u'-powered', u''): 2,\n",
       "          (u'', u'-present', u''): 1,\n",
       "          (u'', u'-pressed', u''): 1,\n",
       "          (u'', u'-quarter', u''): 2,\n",
       "          (u'', u'-quarters', u''): 2,\n",
       "          (u'', u'-rate', u''): 6,\n",
       "          (u'', u'-ridden', u''): 1,\n",
       "          (u'', u'-ringing', u''): 1,\n",
       "          (u'', u'-room', u''): 34,\n",
       "          (u'', u'-root', u''): 1,\n",
       "          (u'', u'-salt', u''): 1,\n",
       "          (u'', u'-salted', u''): 1,\n",
       "          (u'', u'-satisfied', u''): 1,\n",
       "          (u'', u'-school', u''): 1,\n",
       "          (u'', u'-screen', u''): 1,\n",
       "          (u'', u'-second', u''): 1,\n",
       "          (u'', u'-seven', u''): 1,\n",
       "          (u'', u'-shortening', u''): 1,\n",
       "          (u'', u'-sighted', u''): 2,\n",
       "          (u'', u'-sized', u''): 4,\n",
       "          (u'', u'-so', u''): 1,\n",
       "          (u'', u'-spoken', u''): 1,\n",
       "          (u'', u'-standing', u''): 2,\n",
       "          (u'', u'-street', u''): 3,\n",
       "          (u'', u'-stricken', u''): 1,\n",
       "          (u'', u'-struck', u''): 1,\n",
       "          (u'', u'-sufficiency', u''): 1,\n",
       "          (u'', u'-syllables', u''): 1,\n",
       "          (u'', u'-table', u''): 3,\n",
       "          (u'', u'-tables', u''): 1,\n",
       "          (u'', u'-taking', u''): 2,\n",
       "          (u'', u'-tart', u''): 1,\n",
       "          (u'', u'-tarts', u''): 1,\n",
       "          (u'', u'-tattle', u''): 1,\n",
       "          (u'', u'-teacher', u''): 1,\n",
       "          (u'', u'-temper', u''): 1,\n",
       "          (u'', u'-tempered', u''): 9,\n",
       "          (u'', u'-tete', u''): 4,\n",
       "          (u'', u'-thirty', u''): 2,\n",
       "          (u'', u'-throat', u''): 1,\n",
       "          (u'', u'-throats', u''): 1,\n",
       "          (u'', u'-throw', u''): 1,\n",
       "          (u'', u'-tied', u''): 1,\n",
       "          (u'', u'-time', u''): 2,\n",
       "          (u'', u'-timed', u''): 1,\n",
       "          (u'', u'-to', u''): 1,\n",
       "          (u'', u'-trade', u''): 3,\n",
       "          (u'', u'-trees', u''): 1,\n",
       "          (u'', u'-trimmed', u''): 2,\n",
       "          (u'', u'-twenty', u''): 16,\n",
       "          (u'', u'-up', u''): 4,\n",
       "          (u'', u'-urged', u''): 1,\n",
       "          (u'', u'-usage', u''): 2,\n",
       "          (u'', u'-visit', u''): 1,\n",
       "          (u'', u'-visiting', u''): 1,\n",
       "          (u'', u'-walk', u''): 1,\n",
       "          (u'', u'-ware', u''): 1,\n",
       "          (u'', u'-way', u''): 1,\n",
       "          (u'', u'-whisper', u''): 2,\n",
       "          (u'', u'-will', u''): 14,\n",
       "          (u'', u'-willed', u''): 1,\n",
       "          (u'', u'-window', u''): 1,\n",
       "          (u'', u'-wink', u''): 1,\n",
       "          (u'', u'-work', u''): 3,\n",
       "          (u'', u'-written', u''): 1,\n",
       "          (u'', u'-yards', u''): 1,\n",
       "          (u'', u'-year', u''): 1,\n",
       "          (u'A.', u'', u''): 2,\n",
       "          (u'C.', u'', u''): 2,\n",
       "          (u'E.', u'', u''): 11,\n",
       "          (u'F.', u'', u''): 3,\n",
       "          (u'I.', u'', u''): 1,\n",
       "          (u'K.', u'', u''): 1,\n",
       "          (u'M.', u'', u''): 2,\n",
       "          (u'N.', u'', u''): 1,\n",
       "          (u'S.', u'', u''): 2,\n",
       "          (u'W.', u'', u''): 4})"
      ]
     },
     "execution_count": 11,
     "metadata": {},
     "output_type": "execute_result"
    }
   ],
   "source": [
    "en.vocab()"
   ]
  },
  {
   "cell_type": "code",
   "execution_count": 14,
   "metadata": {
    "collapsed": false
   },
   "outputs": [
    {
     "data": {
      "image/png": "[encoded data removed]",
      "text/plain": [
       "<matplotlib.figure.Figure at 0x119366b10>"
      ]
     },
     "metadata": {},
     "output_type": "display_data"
    }
   ],
   "source": [
    "import matplotlib.pyplot as plt\n",
    "%matplotlib inline  \n",
    "en.plot(50)"
   ]
  },
  {
   "cell_type": "code",
   "execution_count": 15,
   "metadata": {
    "collapsed": true
   },
   "outputs": [],
   "source": [
    "from matplotlib import pylab\n",
    "pylab.show = lambda: pylab.savefig('some_filename.png')"
   ]
  },
  {
   "cell_type": "code",
   "execution_count": 20,
   "metadata": {
    "collapsed": false
   },
   "outputs": [],
   "source": [
    "from matplotlib import font_manager, rc\n",
    "font_fname = '/Library/Fonts/AppleGothic.ttf'     # A font of your choice\n",
    "font_name = font_manager.FontProperties(fname=font_fname).get_name()\n",
    "rc('font', family=font_name)"
   ]
  },
  {
   "cell_type": "code",
   "execution_count": 21,
   "metadata": {
    "collapsed": false
   },
   "outputs": [
    {
     "data": {
      "text/plain": [
       "0"
      ]
     },
     "execution_count": 21,
     "metadata": {},
     "output_type": "execute_result"
    }
   ],
   "source": [
    "en.count('Emma')"
   ]
  },
  {
   "cell_type": "code",
   "execution_count": 22,
   "metadata": {
    "collapsed": false
   },
   "outputs": [
    {
     "data": {
      "image/png": "[encoded data removed]",
      "text/plain": [
       "<matplotlib.figure.Figure at 0x11af827d0>"
      ]
     },
     "metadata": {},
     "output_type": "display_data"
    }
   ],
   "source": [
    "en.dispersion_plot(['Emma', 'Frank', 'Jane'])"
   ]
  },
  {
   "cell_type": "code",
   "execution_count": 23,
   "metadata": {
    "collapsed": false
   },
   "outputs": [
    {
     "ename": "AttributeError",
     "evalue": "'tuple' object has no attribute 'lower'",
     "output_type": "error",
     "traceback": [
      "\u001b[0;31m---------------------------------------------------------------------------\u001b[0m",
      "\u001b[0;31mAttributeError\u001b[0m                            Traceback (most recent call last)",
      "\u001b[0;32m<ipython-input-23-8ba96088cde4>\u001b[0m in \u001b[0;36m<module>\u001b[0;34m()\u001b[0m\n\u001b[0;32m----> 1\u001b[0;31m \u001b[0men\u001b[0m\u001b[0;34m.\u001b[0m\u001b[0mconcordance\u001b[0m\u001b[0;34m(\u001b[0m\u001b[0;34m'Emma'\u001b[0m\u001b[0;34m,\u001b[0m \u001b[0mlines\u001b[0m\u001b[0;34m=\u001b[0m\u001b[0;36m5\u001b[0m\u001b[0;34m)\u001b[0m\u001b[0;34m\u001b[0m\u001b[0m\n\u001b[0m",
      "\u001b[0;32m/Users/eunsook/anaconda2/lib/python2.7/site-packages/nltk/text.pyc\u001b[0m in \u001b[0;36mconcordance\u001b[0;34m(self, word, width, lines)\u001b[0m\n\u001b[1;32m    330\u001b[0m             \u001b[0;31m#print(\"Building index...\")\u001b[0m\u001b[0;34m\u001b[0m\u001b[0;34m\u001b[0m\u001b[0m\n\u001b[1;32m    331\u001b[0m             self._concordance_index = ConcordanceIndex(self.tokens,\n\u001b[0;32m--> 332\u001b[0;31m                                                        key=lambda s:s.lower())\n\u001b[0m\u001b[1;32m    333\u001b[0m \u001b[0;34m\u001b[0m\u001b[0m\n\u001b[1;32m    334\u001b[0m         \u001b[0mself\u001b[0m\u001b[0;34m.\u001b[0m\u001b[0m_concordance_index\u001b[0m\u001b[0;34m.\u001b[0m\u001b[0mprint_concordance\u001b[0m\u001b[0;34m(\u001b[0m\u001b[0mword\u001b[0m\u001b[0;34m,\u001b[0m \u001b[0mwidth\u001b[0m\u001b[0;34m,\u001b[0m \u001b[0mlines\u001b[0m\u001b[0;34m)\u001b[0m\u001b[0;34m\u001b[0m\u001b[0m\n",
      "\u001b[0;32m/Users/eunsook/anaconda2/lib/python2.7/site-packages/nltk/text.pyc\u001b[0m in \u001b[0;36m__init__\u001b[0;34m(self, tokens, key)\u001b[0m\n\u001b[1;32m    147\u001b[0m         \u001b[0;31m# Initialize the index (self._offsets)\u001b[0m\u001b[0;34m\u001b[0m\u001b[0;34m\u001b[0m\u001b[0m\n\u001b[1;32m    148\u001b[0m         \u001b[0;32mfor\u001b[0m \u001b[0mindex\u001b[0m\u001b[0;34m,\u001b[0m \u001b[0mword\u001b[0m \u001b[0;32min\u001b[0m \u001b[0menumerate\u001b[0m\u001b[0;34m(\u001b[0m\u001b[0mtokens\u001b[0m\u001b[0;34m)\u001b[0m\u001b[0;34m:\u001b[0m\u001b[0;34m\u001b[0m\u001b[0m\n\u001b[0;32m--> 149\u001b[0;31m             \u001b[0mword\u001b[0m \u001b[0;34m=\u001b[0m \u001b[0mself\u001b[0m\u001b[0;34m.\u001b[0m\u001b[0m_key\u001b[0m\u001b[0;34m(\u001b[0m\u001b[0mword\u001b[0m\u001b[0;34m)\u001b[0m\u001b[0;34m\u001b[0m\u001b[0m\n\u001b[0m\u001b[1;32m    150\u001b[0m             \u001b[0mself\u001b[0m\u001b[0;34m.\u001b[0m\u001b[0m_offsets\u001b[0m\u001b[0;34m[\u001b[0m\u001b[0mword\u001b[0m\u001b[0;34m]\u001b[0m\u001b[0;34m.\u001b[0m\u001b[0mappend\u001b[0m\u001b[0;34m(\u001b[0m\u001b[0mindex\u001b[0m\u001b[0;34m)\u001b[0m\u001b[0;34m\u001b[0m\u001b[0m\n\u001b[1;32m    151\u001b[0m \u001b[0;34m\u001b[0m\u001b[0m\n",
      "\u001b[0;32m/Users/eunsook/anaconda2/lib/python2.7/site-packages/nltk/text.pyc\u001b[0m in \u001b[0;36m<lambda>\u001b[0;34m(s)\u001b[0m\n\u001b[1;32m    330\u001b[0m             \u001b[0;31m#print(\"Building index...\")\u001b[0m\u001b[0;34m\u001b[0m\u001b[0;34m\u001b[0m\u001b[0m\n\u001b[1;32m    331\u001b[0m             self._concordance_index = ConcordanceIndex(self.tokens,\n\u001b[0;32m--> 332\u001b[0;31m                                                        key=lambda s:s.lower())\n\u001b[0m\u001b[1;32m    333\u001b[0m \u001b[0;34m\u001b[0m\u001b[0m\n\u001b[1;32m    334\u001b[0m         \u001b[0mself\u001b[0m\u001b[0;34m.\u001b[0m\u001b[0m_concordance_index\u001b[0m\u001b[0;34m.\u001b[0m\u001b[0mprint_concordance\u001b[0m\u001b[0;34m(\u001b[0m\u001b[0mword\u001b[0m\u001b[0;34m,\u001b[0m \u001b[0mwidth\u001b[0m\u001b[0;34m,\u001b[0m \u001b[0mlines\u001b[0m\u001b[0;34m)\u001b[0m\u001b[0;34m\u001b[0m\u001b[0m\n",
      "\u001b[0;31mAttributeError\u001b[0m: 'tuple' object has no attribute 'lower'"
     ]
    }
   ],
   "source": [
    "en.concordance('Emma', lines=5)"
   ]
  },
  {
   "cell_type": "code",
   "execution_count": 24,
   "metadata": {
    "collapsed": false
   },
   "outputs": [
    {
     "ename": "AttributeError",
     "evalue": "'tuple' object has no attribute 'isalpha'",
     "output_type": "error",
     "traceback": [
      "\u001b[0;31m---------------------------------------------------------------------------\u001b[0m",
      "\u001b[0;31mAttributeError\u001b[0m                            Traceback (most recent call last)",
      "\u001b[0;32m<ipython-input-24-f18098264b81>\u001b[0m in \u001b[0;36m<module>\u001b[0;34m()\u001b[0m\n\u001b[0;32m----> 1\u001b[0;31m \u001b[0men\u001b[0m\u001b[0;34m.\u001b[0m\u001b[0msimilar\u001b[0m\u001b[0;34m(\u001b[0m\u001b[0;34m'Emma'\u001b[0m\u001b[0;34m)\u001b[0m\u001b[0;34m\u001b[0m\u001b[0m\n\u001b[0m",
      "\u001b[0;32m/Users/eunsook/anaconda2/lib/python2.7/site-packages/nltk/text.pyc\u001b[0m in \u001b[0;36msimilar\u001b[0;34m(self, word, num)\u001b[0m\n\u001b[1;32m    390\u001b[0m             self._word_context_index = ContextIndex(self.tokens,\n\u001b[1;32m    391\u001b[0m                                                     \u001b[0mfilter\u001b[0m\u001b[0;34m=\u001b[0m\u001b[0;32mlambda\u001b[0m \u001b[0mx\u001b[0m\u001b[0;34m:\u001b[0m\u001b[0mx\u001b[0m\u001b[0;34m.\u001b[0m\u001b[0misalpha\u001b[0m\u001b[0;34m(\u001b[0m\u001b[0;34m)\u001b[0m\u001b[0;34m,\u001b[0m\u001b[0;34m\u001b[0m\u001b[0m\n\u001b[0;32m--> 392\u001b[0;31m                                                     key=lambda s:s.lower())\n\u001b[0m\u001b[1;32m    393\u001b[0m \u001b[0;34m\u001b[0m\u001b[0m\n\u001b[1;32m    394\u001b[0m \u001b[0;31m#        words = self._word_context_index.similar_words(word, num)\u001b[0m\u001b[0;34m\u001b[0m\u001b[0;34m\u001b[0m\u001b[0m\n",
      "\u001b[0;32m/Users/eunsook/anaconda2/lib/python2.7/site-packages/nltk/text.pyc\u001b[0m in \u001b[0;36m__init__\u001b[0;34m(self, tokens, context_func, filter, key)\u001b[0m\n\u001b[1;32m     52\u001b[0m             \u001b[0mself\u001b[0m\u001b[0;34m.\u001b[0m\u001b[0m_context_func\u001b[0m \u001b[0;34m=\u001b[0m \u001b[0mself\u001b[0m\u001b[0;34m.\u001b[0m\u001b[0m_default_context\u001b[0m\u001b[0;34m\u001b[0m\u001b[0m\n\u001b[1;32m     53\u001b[0m         \u001b[0;32mif\u001b[0m \u001b[0mfilter\u001b[0m\u001b[0;34m:\u001b[0m\u001b[0;34m\u001b[0m\u001b[0m\n\u001b[0;32m---> 54\u001b[0;31m             \u001b[0mtokens\u001b[0m \u001b[0;34m=\u001b[0m \u001b[0;34m[\u001b[0m\u001b[0mt\u001b[0m \u001b[0;32mfor\u001b[0m \u001b[0mt\u001b[0m \u001b[0;32min\u001b[0m \u001b[0mtokens\u001b[0m \u001b[0;32mif\u001b[0m \u001b[0mfilter\u001b[0m\u001b[0;34m(\u001b[0m\u001b[0mt\u001b[0m\u001b[0;34m)\u001b[0m\u001b[0;34m]\u001b[0m\u001b[0;34m\u001b[0m\u001b[0m\n\u001b[0m\u001b[1;32m     55\u001b[0m         self._word_to_contexts = CFD((self._key(w), self._context_func(tokens, i))\n\u001b[1;32m     56\u001b[0m                                      for i, w in enumerate(tokens))\n",
      "\u001b[0;32m/Users/eunsook/anaconda2/lib/python2.7/site-packages/nltk/text.pyc\u001b[0m in \u001b[0;36m<lambda>\u001b[0;34m(x)\u001b[0m\n\u001b[1;32m    389\u001b[0m             \u001b[0;31m#print('Building word-context index...')\u001b[0m\u001b[0;34m\u001b[0m\u001b[0;34m\u001b[0m\u001b[0m\n\u001b[1;32m    390\u001b[0m             self._word_context_index = ContextIndex(self.tokens,\n\u001b[0;32m--> 391\u001b[0;31m                                                     \u001b[0mfilter\u001b[0m\u001b[0;34m=\u001b[0m\u001b[0;32mlambda\u001b[0m \u001b[0mx\u001b[0m\u001b[0;34m:\u001b[0m\u001b[0mx\u001b[0m\u001b[0;34m.\u001b[0m\u001b[0misalpha\u001b[0m\u001b[0;34m(\u001b[0m\u001b[0;34m)\u001b[0m\u001b[0;34m,\u001b[0m\u001b[0;34m\u001b[0m\u001b[0m\n\u001b[0m\u001b[1;32m    392\u001b[0m                                                     key=lambda s:s.lower())\n\u001b[1;32m    393\u001b[0m \u001b[0;34m\u001b[0m\u001b[0m\n",
      "\u001b[0;31mAttributeError\u001b[0m: 'tuple' object has no attribute 'isalpha'"
     ]
    }
   ],
   "source": [
    "en.similar('Emma')"
   ]
  },
  {
   "cell_type": "code",
   "execution_count": 25,
   "metadata": {
    "collapsed": false
   },
   "outputs": [
    {
     "ename": "AttributeError",
     "evalue": "'tuple' object has no attribute 'lower'",
     "output_type": "error",
     "traceback": [
      "\u001b[0;31m---------------------------------------------------------------------------\u001b[0m",
      "\u001b[0;31mAttributeError\u001b[0m                            Traceback (most recent call last)",
      "\u001b[0;32m<ipython-input-25-ba17d3bfa9c7>\u001b[0m in \u001b[0;36m<module>\u001b[0;34m()\u001b[0m\n\u001b[0;32m----> 1\u001b[0;31m \u001b[0men\u001b[0m\u001b[0;34m.\u001b[0m\u001b[0mcollocations\u001b[0m\u001b[0;34m(\u001b[0m\u001b[0;34m)\u001b[0m\u001b[0;34m\u001b[0m\u001b[0m\n\u001b[0m",
      "\u001b[0;32m/Users/eunsook/anaconda2/lib/python2.7/site-packages/nltk/text.pyc\u001b[0m in \u001b[0;36mcollocations\u001b[0;34m(self, num, window_size)\u001b[0m\n\u001b[1;32m    353\u001b[0m             \u001b[0mfinder\u001b[0m \u001b[0;34m=\u001b[0m \u001b[0mBigramCollocationFinder\u001b[0m\u001b[0;34m.\u001b[0m\u001b[0mfrom_words\u001b[0m\u001b[0;34m(\u001b[0m\u001b[0mself\u001b[0m\u001b[0;34m.\u001b[0m\u001b[0mtokens\u001b[0m\u001b[0;34m,\u001b[0m \u001b[0mwindow_size\u001b[0m\u001b[0;34m)\u001b[0m\u001b[0;34m\u001b[0m\u001b[0m\n\u001b[1;32m    354\u001b[0m             \u001b[0mfinder\u001b[0m\u001b[0;34m.\u001b[0m\u001b[0mapply_freq_filter\u001b[0m\u001b[0;34m(\u001b[0m\u001b[0;36m2\u001b[0m\u001b[0;34m)\u001b[0m\u001b[0;34m\u001b[0m\u001b[0m\n\u001b[0;32m--> 355\u001b[0;31m             \u001b[0mfinder\u001b[0m\u001b[0;34m.\u001b[0m\u001b[0mapply_word_filter\u001b[0m\u001b[0;34m(\u001b[0m\u001b[0;32mlambda\u001b[0m \u001b[0mw\u001b[0m\u001b[0;34m:\u001b[0m \u001b[0mlen\u001b[0m\u001b[0;34m(\u001b[0m\u001b[0mw\u001b[0m\u001b[0;34m)\u001b[0m \u001b[0;34m<\u001b[0m \u001b[0;36m3\u001b[0m \u001b[0;32mor\u001b[0m \u001b[0mw\u001b[0m\u001b[0;34m.\u001b[0m\u001b[0mlower\u001b[0m\u001b[0;34m(\u001b[0m\u001b[0;34m)\u001b[0m \u001b[0;32min\u001b[0m \u001b[0mignored_words\u001b[0m\u001b[0;34m)\u001b[0m\u001b[0;34m\u001b[0m\u001b[0m\n\u001b[0m\u001b[1;32m    356\u001b[0m             \u001b[0mbigram_measures\u001b[0m \u001b[0;34m=\u001b[0m \u001b[0mBigramAssocMeasures\u001b[0m\u001b[0;34m(\u001b[0m\u001b[0;34m)\u001b[0m\u001b[0;34m\u001b[0m\u001b[0m\n\u001b[1;32m    357\u001b[0m             \u001b[0mself\u001b[0m\u001b[0;34m.\u001b[0m\u001b[0m_collocations\u001b[0m \u001b[0;34m=\u001b[0m \u001b[0mfinder\u001b[0m\u001b[0;34m.\u001b[0m\u001b[0mnbest\u001b[0m\u001b[0;34m(\u001b[0m\u001b[0mbigram_measures\u001b[0m\u001b[0;34m.\u001b[0m\u001b[0mlikelihood_ratio\u001b[0m\u001b[0;34m,\u001b[0m \u001b[0mnum\u001b[0m\u001b[0;34m)\u001b[0m\u001b[0;34m\u001b[0m\u001b[0m\n",
      "\u001b[0;32m/Users/eunsook/anaconda2/lib/python2.7/site-packages/nltk/collocations.pyc\u001b[0m in \u001b[0;36mapply_word_filter\u001b[0;34m(self, fn)\u001b[0m\n\u001b[1;32m    104\u001b[0m         ...) evaluates to True.\n\u001b[1;32m    105\u001b[0m         \"\"\"\n\u001b[0;32m--> 106\u001b[0;31m         \u001b[0mself\u001b[0m\u001b[0;34m.\u001b[0m\u001b[0m_apply_filter\u001b[0m\u001b[0;34m(\u001b[0m\u001b[0;32mlambda\u001b[0m \u001b[0mng\u001b[0m\u001b[0;34m,\u001b[0m \u001b[0mf\u001b[0m\u001b[0;34m:\u001b[0m \u001b[0many\u001b[0m\u001b[0;34m(\u001b[0m\u001b[0mfn\u001b[0m\u001b[0;34m(\u001b[0m\u001b[0mw\u001b[0m\u001b[0;34m)\u001b[0m \u001b[0;32mfor\u001b[0m \u001b[0mw\u001b[0m \u001b[0;32min\u001b[0m \u001b[0mng\u001b[0m\u001b[0;34m)\u001b[0m\u001b[0;34m)\u001b[0m\u001b[0;34m\u001b[0m\u001b[0m\n\u001b[0m\u001b[1;32m    107\u001b[0m \u001b[0;34m\u001b[0m\u001b[0m\n\u001b[1;32m    108\u001b[0m     \u001b[0;32mdef\u001b[0m \u001b[0m_score_ngrams\u001b[0m\u001b[0;34m(\u001b[0m\u001b[0mself\u001b[0m\u001b[0;34m,\u001b[0m \u001b[0mscore_fn\u001b[0m\u001b[0;34m)\u001b[0m\u001b[0;34m:\u001b[0m\u001b[0;34m\u001b[0m\u001b[0m\n",
      "\u001b[0;32m/Users/eunsook/anaconda2/lib/python2.7/site-packages/nltk/collocations.pyc\u001b[0m in \u001b[0;36m_apply_filter\u001b[0;34m(self, fn)\u001b[0m\n\u001b[1;32m     86\u001b[0m         \u001b[0mtmp_ngram\u001b[0m \u001b[0;34m=\u001b[0m \u001b[0mFreqDist\u001b[0m\u001b[0;34m(\u001b[0m\u001b[0;34m)\u001b[0m\u001b[0;34m\u001b[0m\u001b[0m\n\u001b[1;32m     87\u001b[0m         \u001b[0;32mfor\u001b[0m \u001b[0mngram\u001b[0m\u001b[0;34m,\u001b[0m \u001b[0mfreq\u001b[0m \u001b[0;32min\u001b[0m \u001b[0miteritems\u001b[0m\u001b[0;34m(\u001b[0m\u001b[0mself\u001b[0m\u001b[0;34m.\u001b[0m\u001b[0mngram_fd\u001b[0m\u001b[0;34m)\u001b[0m\u001b[0;34m:\u001b[0m\u001b[0;34m\u001b[0m\u001b[0m\n\u001b[0;32m---> 88\u001b[0;31m             \u001b[0;32mif\u001b[0m \u001b[0;32mnot\u001b[0m \u001b[0mfn\u001b[0m\u001b[0;34m(\u001b[0m\u001b[0mngram\u001b[0m\u001b[0;34m,\u001b[0m \u001b[0mfreq\u001b[0m\u001b[0;34m)\u001b[0m\u001b[0;34m:\u001b[0m\u001b[0;34m\u001b[0m\u001b[0m\n\u001b[0m\u001b[1;32m     89\u001b[0m                 \u001b[0mtmp_ngram\u001b[0m\u001b[0;34m[\u001b[0m\u001b[0mngram\u001b[0m\u001b[0;34m]\u001b[0m \u001b[0;34m=\u001b[0m \u001b[0mfreq\u001b[0m\u001b[0;34m\u001b[0m\u001b[0m\n\u001b[1;32m     90\u001b[0m         \u001b[0mself\u001b[0m\u001b[0;34m.\u001b[0m\u001b[0mngram_fd\u001b[0m \u001b[0;34m=\u001b[0m \u001b[0mtmp_ngram\u001b[0m\u001b[0;34m\u001b[0m\u001b[0m\n",
      "\u001b[0;32m/Users/eunsook/anaconda2/lib/python2.7/site-packages/nltk/collocations.pyc\u001b[0m in \u001b[0;36m<lambda>\u001b[0;34m(ng, f)\u001b[0m\n\u001b[1;32m    104\u001b[0m         ...) evaluates to True.\n\u001b[1;32m    105\u001b[0m         \"\"\"\n\u001b[0;32m--> 106\u001b[0;31m         \u001b[0mself\u001b[0m\u001b[0;34m.\u001b[0m\u001b[0m_apply_filter\u001b[0m\u001b[0;34m(\u001b[0m\u001b[0;32mlambda\u001b[0m \u001b[0mng\u001b[0m\u001b[0;34m,\u001b[0m \u001b[0mf\u001b[0m\u001b[0;34m:\u001b[0m \u001b[0many\u001b[0m\u001b[0;34m(\u001b[0m\u001b[0mfn\u001b[0m\u001b[0;34m(\u001b[0m\u001b[0mw\u001b[0m\u001b[0;34m)\u001b[0m \u001b[0;32mfor\u001b[0m \u001b[0mw\u001b[0m \u001b[0;32min\u001b[0m \u001b[0mng\u001b[0m\u001b[0;34m)\u001b[0m\u001b[0;34m)\u001b[0m\u001b[0;34m\u001b[0m\u001b[0m\n\u001b[0m\u001b[1;32m    107\u001b[0m \u001b[0;34m\u001b[0m\u001b[0m\n\u001b[1;32m    108\u001b[0m     \u001b[0;32mdef\u001b[0m \u001b[0m_score_ngrams\u001b[0m\u001b[0;34m(\u001b[0m\u001b[0mself\u001b[0m\u001b[0;34m,\u001b[0m \u001b[0mscore_fn\u001b[0m\u001b[0;34m)\u001b[0m\u001b[0;34m:\u001b[0m\u001b[0;34m\u001b[0m\u001b[0m\n",
      "\u001b[0;32m/Users/eunsook/anaconda2/lib/python2.7/site-packages/nltk/collocations.pyc\u001b[0m in \u001b[0;36m<genexpr>\u001b[0;34m((w,))\u001b[0m\n\u001b[1;32m    104\u001b[0m         ...) evaluates to True.\n\u001b[1;32m    105\u001b[0m         \"\"\"\n\u001b[0;32m--> 106\u001b[0;31m         \u001b[0mself\u001b[0m\u001b[0;34m.\u001b[0m\u001b[0m_apply_filter\u001b[0m\u001b[0;34m(\u001b[0m\u001b[0;32mlambda\u001b[0m \u001b[0mng\u001b[0m\u001b[0;34m,\u001b[0m \u001b[0mf\u001b[0m\u001b[0;34m:\u001b[0m \u001b[0many\u001b[0m\u001b[0;34m(\u001b[0m\u001b[0mfn\u001b[0m\u001b[0;34m(\u001b[0m\u001b[0mw\u001b[0m\u001b[0;34m)\u001b[0m \u001b[0;32mfor\u001b[0m \u001b[0mw\u001b[0m \u001b[0;32min\u001b[0m \u001b[0mng\u001b[0m\u001b[0;34m)\u001b[0m\u001b[0;34m)\u001b[0m\u001b[0;34m\u001b[0m\u001b[0m\n\u001b[0m\u001b[1;32m    107\u001b[0m \u001b[0;34m\u001b[0m\u001b[0m\n\u001b[1;32m    108\u001b[0m     \u001b[0;32mdef\u001b[0m \u001b[0m_score_ngrams\u001b[0m\u001b[0;34m(\u001b[0m\u001b[0mself\u001b[0m\u001b[0;34m,\u001b[0m \u001b[0mscore_fn\u001b[0m\u001b[0;34m)\u001b[0m\u001b[0;34m:\u001b[0m\u001b[0;34m\u001b[0m\u001b[0m\n",
      "\u001b[0;32m/Users/eunsook/anaconda2/lib/python2.7/site-packages/nltk/text.pyc\u001b[0m in \u001b[0;36m<lambda>\u001b[0;34m(w)\u001b[0m\n\u001b[1;32m    353\u001b[0m             \u001b[0mfinder\u001b[0m \u001b[0;34m=\u001b[0m \u001b[0mBigramCollocationFinder\u001b[0m\u001b[0;34m.\u001b[0m\u001b[0mfrom_words\u001b[0m\u001b[0;34m(\u001b[0m\u001b[0mself\u001b[0m\u001b[0;34m.\u001b[0m\u001b[0mtokens\u001b[0m\u001b[0;34m,\u001b[0m \u001b[0mwindow_size\u001b[0m\u001b[0;34m)\u001b[0m\u001b[0;34m\u001b[0m\u001b[0m\n\u001b[1;32m    354\u001b[0m             \u001b[0mfinder\u001b[0m\u001b[0;34m.\u001b[0m\u001b[0mapply_freq_filter\u001b[0m\u001b[0;34m(\u001b[0m\u001b[0;36m2\u001b[0m\u001b[0;34m)\u001b[0m\u001b[0;34m\u001b[0m\u001b[0m\n\u001b[0;32m--> 355\u001b[0;31m             \u001b[0mfinder\u001b[0m\u001b[0;34m.\u001b[0m\u001b[0mapply_word_filter\u001b[0m\u001b[0;34m(\u001b[0m\u001b[0;32mlambda\u001b[0m \u001b[0mw\u001b[0m\u001b[0;34m:\u001b[0m \u001b[0mlen\u001b[0m\u001b[0;34m(\u001b[0m\u001b[0mw\u001b[0m\u001b[0;34m)\u001b[0m \u001b[0;34m<\u001b[0m \u001b[0;36m3\u001b[0m \u001b[0;32mor\u001b[0m \u001b[0mw\u001b[0m\u001b[0;34m.\u001b[0m\u001b[0mlower\u001b[0m\u001b[0;34m(\u001b[0m\u001b[0;34m)\u001b[0m \u001b[0;32min\u001b[0m \u001b[0mignored_words\u001b[0m\u001b[0;34m)\u001b[0m\u001b[0;34m\u001b[0m\u001b[0m\n\u001b[0m\u001b[1;32m    356\u001b[0m             \u001b[0mbigram_measures\u001b[0m \u001b[0;34m=\u001b[0m \u001b[0mBigramAssocMeasures\u001b[0m\u001b[0;34m(\u001b[0m\u001b[0;34m)\u001b[0m\u001b[0;34m\u001b[0m\u001b[0m\n\u001b[1;32m    357\u001b[0m             \u001b[0mself\u001b[0m\u001b[0;34m.\u001b[0m\u001b[0m_collocations\u001b[0m \u001b[0;34m=\u001b[0m \u001b[0mfinder\u001b[0m\u001b[0;34m.\u001b[0m\u001b[0mnbest\u001b[0m\u001b[0;34m(\u001b[0m\u001b[0mbigram_measures\u001b[0m\u001b[0;34m.\u001b[0m\u001b[0mlikelihood_ratio\u001b[0m\u001b[0;34m,\u001b[0m \u001b[0mnum\u001b[0m\u001b[0;34m)\u001b[0m\u001b[0;34m\u001b[0m\u001b[0m\n",
      "\u001b[0;31mAttributeError\u001b[0m: 'tuple' object has no attribute 'lower'"
     ]
    }
   ],
   "source": [
    "en.collocations()"
   ]
  },
  {
   "cell_type": "code",
   "execution_count": 27,
   "metadata": {
    "collapsed": false
   },
   "outputs": [
    {
     "name": "stdout",
     "output_type": "stream",
     "text": [
      "[('The', 'DT'), ('little', 'JJ'), ('yellow', 'JJ'), ('dog', 'NN'), ('barked', 'VBD'), ('at', 'IN'), ('the', 'DT'), ('Persian', 'JJ'), ('cat', 'NN')]\n"
     ]
    }
   ],
   "source": [
    "tokens = \"The little yellow dog barked at the Persian cat\".split()\n",
    "tags_en = nltk.pos_tag(tokens)\n",
    "print tags_en"
   ]
  },
  {
   "cell_type": "code",
   "execution_count": null,
   "metadata": {
    "collapsed": true
   },
   "outputs": [],
   "source": [
    "parser_en = nltk.RegexpParser(\"NP: {<DT>?<JJ>?<NN.*>*}\")\n",
    "chunks_en = parser_en.parse(tags_en)\n",
    "chunks_en.draw()"
   ]
  },
  {
   "cell_type": "markdown",
   "metadata": {},
   "source": [
    "# 참고 자료\n",
    "http://www.nltk.org/\n",
    "https://www.lucypark.kr/courses/2015-dm/text-mining.html\n",
    "http://sens.tistory.com/454"
   ]
  }
 ],
 "metadata": {
  "kernelspec": {
   "display_name": "Python [Root]",
   "language": "python",
   "name": "Python [Root]"
  },
  "language_info": {
   "codemirror_mode": {
    "name": "ipython",
    "version": 2
   },
   "file_extension": ".py",
   "mimetype": "text/x-python",
   "name": "python",
   "nbconvert_exporter": "python",
   "pygments_lexer": "ipython2",
   "version": "2.7.12"
  }
 },
 "nbformat": 4,
 "nbformat_minor": 0
}
