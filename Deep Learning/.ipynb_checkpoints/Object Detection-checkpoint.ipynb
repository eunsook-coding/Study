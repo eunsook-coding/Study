{
 "cells": [
  {
   "cell_type": "markdown",
   "metadata": {},
   "source": [
    "## RCNN\n",
    "\n",
    "Rich feature hierarchies for accurate object detection and semantic segmentation\n",
    "\n",
    "(정확한 객체 감지 및 의미론적 세분화를 위한 풍부한 기능 계층 구조)\n",
    "\n",
    "가장 먼저 나온 framework. Region Proposal. \n",
    "그니까 물체인 듯 한 것들을 먼저 찾아낸다. \n",
    "\n",
    "이때 쓰는 알고리즘은 Selective Search, EdgeBox 등이 있음. 그리고 그 proposal에 classification에 쓰는 CNN으로 분류시킴. \n",
    "\n",
    "\n",
    "<img src=\"http://3.bp.blogspot.com/-aM69pqJLP9k/VT2927f8WmI/AAAAAAAAAv8/7S49kEq5Ss0/s1600/%E6%93%B7%E5%8F%96.PNG\"/>\n",
    "\n",
    "장점은 성능이 좋았던 것. \n",
    "\n",
    "하지만 단점으로\n",
    "\n",
    "1. region proposal을 CNN에서 classification할 때 image를 warp/crop을 하기 때문에 이미지 변형/손실이 일어나서 성능이 저하함.\n",
    "\n",
    "2. 약 2000개 region proposal을 뽑고 다 CNN computation을 돌리기 때문에 속도 저하.\n",
    "\n",
    "3. Region Proposal에 쓰는 알고리즘들은 GPU의 빠른 연산에서 이득을 못보는 CPU 연산이었고 속도에서 Bottleneck으로 작용함.\n",
    "\n",
    "이 3개가 R-CNN의 대표적인 단점이었는데 \n",
    "1,2 번째 단점이 다음에 소개될 SPPnet에서 해결되었다. \n",
    "2번째 단점은 소개되는 Fast-RCNN에서, 3번째 단점은 Faster-RCNN에서 해결된다."
   ]
  },
  {
   "cell_type": "markdown",
   "metadata": {},
   "source": [
    "## SPPNet\n",
    "1. region proposal을 CNN에서 classification할 때 image를 warp/crop을 하기 때문에 이미지 변형/손실이 일어나서 성능이 저하함.\n",
    "\n",
    "\n",
    "Spatial Pyramid Pooling in Deep Convolutional Networks for Visual Recognition\n",
    "\n",
    "(시각적 인식을위한 딥 컨볼 루션 네트워크에서의 공간 피라미드 풀링)\n",
    "\n",
    "Convolution은 filter로 convolution 계산만 하는 개념, \n",
    "\n",
    "FC는 fixed input size에서 fixed output size로 transformation을 하는 개념이다.\n",
    "\n"
   ]
  },
  {
   "cell_type": "code",
   "execution_count": null,
   "metadata": {
    "collapsed": true
   },
   "outputs": [],
   "source": []
  }
 ],
 "metadata": {
  "anaconda-cloud": {},
  "kernelspec": {
   "display_name": "Python [Root]",
   "language": "python",
   "name": "Python [Root]"
  },
  "language_info": {
   "codemirror_mode": {
    "name": "ipython",
    "version": 2
   },
   "file_extension": ".py",
   "mimetype": "text/x-python",
   "name": "python",
   "nbconvert_exporter": "python",
   "pygments_lexer": "ipython2",
   "version": "2.7.12"
  }
 },
 "nbformat": 4,
 "nbformat_minor": 0
}
